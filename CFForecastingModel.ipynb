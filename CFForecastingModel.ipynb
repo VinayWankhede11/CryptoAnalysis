{
  "nbformat": 4,
  "nbformat_minor": 0,
  "metadata": {
    "colab": {
      "provenance": []
    },
    "kernelspec": {
      "name": "python3",
      "display_name": "Python 3"
    },
    "language_info": {
      "name": "python"
    }
  },
  "cells": [
    {
      "cell_type": "code",
      "metadata": {
        "id": "IncTEQtpwosn"
      },
      "source": [
        "import json\n",
        "import requests\n",
        "from keras.models import Sequential\n",
        "from keras.layers import Activation, Dense, Dropout, LSTM\n",
        "import matplotlib.pyplot as plt\n",
        "import numpy as np\n",
        "import pandas as pd\n",
        "import seaborn as sns\n",
        "from sklearn.metrics import mean_absolute_error\n",
        "%matplotlib inline"
      ],
      "execution_count": 2,
      "outputs": []
    },
    {
      "cell_type": "code",
      "metadata": {
        "id": "-gmT6Tv9wv96"
      },
      "source": [
        "endpoint = 'https://min-api.cryptocompare.com/data/histoday'\n",
        "res = requests.get(endpoint + '?fsym=BTC&tsym=CAD&limit=500')\n",
        "hist = pd.DataFrame(json.loads(res.content)['Data'])\n",
        "hist = hist.set_index('time')\n",
        "hist.index = pd.to_datetime(hist.index, unit='s')\n",
        "target_col = 'close'"
      ],
      "execution_count": 9,
      "outputs": []
    },
    {
      "cell_type": "code",
      "metadata": {
        "id": "-QjNdIRFw4yc"
      },
      "source": [
        "hist.drop([\"conversionType\", \"conversionSymbol\"], axis = 'columns', inplace = True)"
      ],
      "execution_count": 10,
      "outputs": []
    },
    {
      "cell_type": "code",
      "metadata": {
        "colab": {
          "base_uri": "https://localhost:8080/",
          "height": 237
        },
        "id": "asejEVAMxIbs",
        "outputId": "fba2689a-95b4-465f-fe9f-fc8f5e4ff47b"
      },
      "source": [
        "hist.head(5)"
      ],
      "execution_count": 11,
      "outputs": [
        {
          "output_type": "execute_result",
          "data": {
            "text/plain": [
              "                high       low      open  volumefrom      volumeto     close\n",
              "time                                                                        \n",
              "2021-06-22  41187.05  35601.66  38944.07    18014.22  7.080814e+08  40100.92\n",
              "2021-06-23  42823.85  38942.78  40100.92    15406.00  6.402227e+08  41312.07\n",
              "2021-06-24  43435.29  39676.06  41312.07     9691.27  4.025542e+08  42570.68\n",
              "2021-06-25  43837.53  38360.02  42570.68     9142.30  3.748821e+08  38704.98\n",
              "2021-06-26  40240.10  36974.93  38704.98     8290.56  3.201060e+08  39558.80"
            ],
            "text/html": [
              "\n",
              "  <div id=\"df-7f87c466-6f42-4cee-bc40-0d796fa873ae\">\n",
              "    <div class=\"colab-df-container\">\n",
              "      <div>\n",
              "<style scoped>\n",
              "    .dataframe tbody tr th:only-of-type {\n",
              "        vertical-align: middle;\n",
              "    }\n",
              "\n",
              "    .dataframe tbody tr th {\n",
              "        vertical-align: top;\n",
              "    }\n",
              "\n",
              "    .dataframe thead th {\n",
              "        text-align: right;\n",
              "    }\n",
              "</style>\n",
              "<table border=\"1\" class=\"dataframe\">\n",
              "  <thead>\n",
              "    <tr style=\"text-align: right;\">\n",
              "      <th></th>\n",
              "      <th>high</th>\n",
              "      <th>low</th>\n",
              "      <th>open</th>\n",
              "      <th>volumefrom</th>\n",
              "      <th>volumeto</th>\n",
              "      <th>close</th>\n",
              "    </tr>\n",
              "    <tr>\n",
              "      <th>time</th>\n",
              "      <th></th>\n",
              "      <th></th>\n",
              "      <th></th>\n",
              "      <th></th>\n",
              "      <th></th>\n",
              "      <th></th>\n",
              "    </tr>\n",
              "  </thead>\n",
              "  <tbody>\n",
              "    <tr>\n",
              "      <th>2021-06-22</th>\n",
              "      <td>41187.05</td>\n",
              "      <td>35601.66</td>\n",
              "      <td>38944.07</td>\n",
              "      <td>18014.22</td>\n",
              "      <td>7.080814e+08</td>\n",
              "      <td>40100.92</td>\n",
              "    </tr>\n",
              "    <tr>\n",
              "      <th>2021-06-23</th>\n",
              "      <td>42823.85</td>\n",
              "      <td>38942.78</td>\n",
              "      <td>40100.92</td>\n",
              "      <td>15406.00</td>\n",
              "      <td>6.402227e+08</td>\n",
              "      <td>41312.07</td>\n",
              "    </tr>\n",
              "    <tr>\n",
              "      <th>2021-06-24</th>\n",
              "      <td>43435.29</td>\n",
              "      <td>39676.06</td>\n",
              "      <td>41312.07</td>\n",
              "      <td>9691.27</td>\n",
              "      <td>4.025542e+08</td>\n",
              "      <td>42570.68</td>\n",
              "    </tr>\n",
              "    <tr>\n",
              "      <th>2021-06-25</th>\n",
              "      <td>43837.53</td>\n",
              "      <td>38360.02</td>\n",
              "      <td>42570.68</td>\n",
              "      <td>9142.30</td>\n",
              "      <td>3.748821e+08</td>\n",
              "      <td>38704.98</td>\n",
              "    </tr>\n",
              "    <tr>\n",
              "      <th>2021-06-26</th>\n",
              "      <td>40240.10</td>\n",
              "      <td>36974.93</td>\n",
              "      <td>38704.98</td>\n",
              "      <td>8290.56</td>\n",
              "      <td>3.201060e+08</td>\n",
              "      <td>39558.80</td>\n",
              "    </tr>\n",
              "  </tbody>\n",
              "</table>\n",
              "</div>\n",
              "      <button class=\"colab-df-convert\" onclick=\"convertToInteractive('df-7f87c466-6f42-4cee-bc40-0d796fa873ae')\"\n",
              "              title=\"Convert this dataframe to an interactive table.\"\n",
              "              style=\"display:none;\">\n",
              "        \n",
              "  <svg xmlns=\"http://www.w3.org/2000/svg\" height=\"24px\"viewBox=\"0 0 24 24\"\n",
              "       width=\"24px\">\n",
              "    <path d=\"M0 0h24v24H0V0z\" fill=\"none\"/>\n",
              "    <path d=\"M18.56 5.44l.94 2.06.94-2.06 2.06-.94-2.06-.94-.94-2.06-.94 2.06-2.06.94zm-11 1L8.5 8.5l.94-2.06 2.06-.94-2.06-.94L8.5 2.5l-.94 2.06-2.06.94zm10 10l.94 2.06.94-2.06 2.06-.94-2.06-.94-.94-2.06-.94 2.06-2.06.94z\"/><path d=\"M17.41 7.96l-1.37-1.37c-.4-.4-.92-.59-1.43-.59-.52 0-1.04.2-1.43.59L10.3 9.45l-7.72 7.72c-.78.78-.78 2.05 0 2.83L4 21.41c.39.39.9.59 1.41.59.51 0 1.02-.2 1.41-.59l7.78-7.78 2.81-2.81c.8-.78.8-2.07 0-2.86zM5.41 20L4 18.59l7.72-7.72 1.47 1.35L5.41 20z\"/>\n",
              "  </svg>\n",
              "      </button>\n",
              "      \n",
              "  <style>\n",
              "    .colab-df-container {\n",
              "      display:flex;\n",
              "      flex-wrap:wrap;\n",
              "      gap: 12px;\n",
              "    }\n",
              "\n",
              "    .colab-df-convert {\n",
              "      background-color: #E8F0FE;\n",
              "      border: none;\n",
              "      border-radius: 50%;\n",
              "      cursor: pointer;\n",
              "      display: none;\n",
              "      fill: #1967D2;\n",
              "      height: 32px;\n",
              "      padding: 0 0 0 0;\n",
              "      width: 32px;\n",
              "    }\n",
              "\n",
              "    .colab-df-convert:hover {\n",
              "      background-color: #E2EBFA;\n",
              "      box-shadow: 0px 1px 2px rgba(60, 64, 67, 0.3), 0px 1px 3px 1px rgba(60, 64, 67, 0.15);\n",
              "      fill: #174EA6;\n",
              "    }\n",
              "\n",
              "    [theme=dark] .colab-df-convert {\n",
              "      background-color: #3B4455;\n",
              "      fill: #D2E3FC;\n",
              "    }\n",
              "\n",
              "    [theme=dark] .colab-df-convert:hover {\n",
              "      background-color: #434B5C;\n",
              "      box-shadow: 0px 1px 3px 1px rgba(0, 0, 0, 0.15);\n",
              "      filter: drop-shadow(0px 1px 2px rgba(0, 0, 0, 0.3));\n",
              "      fill: #FFFFFF;\n",
              "    }\n",
              "  </style>\n",
              "\n",
              "      <script>\n",
              "        const buttonEl =\n",
              "          document.querySelector('#df-7f87c466-6f42-4cee-bc40-0d796fa873ae button.colab-df-convert');\n",
              "        buttonEl.style.display =\n",
              "          google.colab.kernel.accessAllowed ? 'block' : 'none';\n",
              "\n",
              "        async function convertToInteractive(key) {\n",
              "          const element = document.querySelector('#df-7f87c466-6f42-4cee-bc40-0d796fa873ae');\n",
              "          const dataTable =\n",
              "            await google.colab.kernel.invokeFunction('convertToInteractive',\n",
              "                                                     [key], {});\n",
              "          if (!dataTable) return;\n",
              "\n",
              "          const docLinkHtml = 'Like what you see? Visit the ' +\n",
              "            '<a target=\"_blank\" href=https://colab.research.google.com/notebooks/data_table.ipynb>data table notebook</a>'\n",
              "            + ' to learn more about interactive tables.';\n",
              "          element.innerHTML = '';\n",
              "          dataTable['output_type'] = 'display_data';\n",
              "          await google.colab.output.renderOutput(dataTable, element);\n",
              "          const docLink = document.createElement('div');\n",
              "          docLink.innerHTML = docLinkHtml;\n",
              "          element.appendChild(docLink);\n",
              "        }\n",
              "      </script>\n",
              "    </div>\n",
              "  </div>\n",
              "  "
            ]
          },
          "metadata": {},
          "execution_count": 11
        }
      ]
    },
    {
      "cell_type": "code",
      "metadata": {
        "colab": {
          "base_uri": "https://localhost:8080/",
          "height": 237
        },
        "id": "_xwYQROdxKRS",
        "outputId": "270242b7-4bdf-4d48-e6f9-1fdab39b1774"
      },
      "source": [
        "hist.tail(5)"
      ],
      "execution_count": 12,
      "outputs": [
        {
          "output_type": "execute_result",
          "data": {
            "text/plain": [
              "                high       low      open  volumefrom    volumeto     close\n",
              "time                                                                      \n",
              "2022-10-31  28379.43  27665.00  28086.61       85.17  2382818.49  27905.41\n",
              "2022-11-01  28011.26  27636.31  27905.41       66.73  1858719.42  27900.27\n",
              "2022-11-02  28158.91  27471.28  27900.27      120.48  3350771.68  27589.06\n",
              "2022-11-03  27946.83  27564.24  27589.06       79.68  2214181.49  27756.61\n",
              "2022-11-04  27857.46  27726.46  27756.61       11.35   315842.36  27813.37"
            ],
            "text/html": [
              "\n",
              "  <div id=\"df-773ca0fb-ed01-4df1-9029-c903c47ef45f\">\n",
              "    <div class=\"colab-df-container\">\n",
              "      <div>\n",
              "<style scoped>\n",
              "    .dataframe tbody tr th:only-of-type {\n",
              "        vertical-align: middle;\n",
              "    }\n",
              "\n",
              "    .dataframe tbody tr th {\n",
              "        vertical-align: top;\n",
              "    }\n",
              "\n",
              "    .dataframe thead th {\n",
              "        text-align: right;\n",
              "    }\n",
              "</style>\n",
              "<table border=\"1\" class=\"dataframe\">\n",
              "  <thead>\n",
              "    <tr style=\"text-align: right;\">\n",
              "      <th></th>\n",
              "      <th>high</th>\n",
              "      <th>low</th>\n",
              "      <th>open</th>\n",
              "      <th>volumefrom</th>\n",
              "      <th>volumeto</th>\n",
              "      <th>close</th>\n",
              "    </tr>\n",
              "    <tr>\n",
              "      <th>time</th>\n",
              "      <th></th>\n",
              "      <th></th>\n",
              "      <th></th>\n",
              "      <th></th>\n",
              "      <th></th>\n",
              "      <th></th>\n",
              "    </tr>\n",
              "  </thead>\n",
              "  <tbody>\n",
              "    <tr>\n",
              "      <th>2022-10-31</th>\n",
              "      <td>28379.43</td>\n",
              "      <td>27665.00</td>\n",
              "      <td>28086.61</td>\n",
              "      <td>85.17</td>\n",
              "      <td>2382818.49</td>\n",
              "      <td>27905.41</td>\n",
              "    </tr>\n",
              "    <tr>\n",
              "      <th>2022-11-01</th>\n",
              "      <td>28011.26</td>\n",
              "      <td>27636.31</td>\n",
              "      <td>27905.41</td>\n",
              "      <td>66.73</td>\n",
              "      <td>1858719.42</td>\n",
              "      <td>27900.27</td>\n",
              "    </tr>\n",
              "    <tr>\n",
              "      <th>2022-11-02</th>\n",
              "      <td>28158.91</td>\n",
              "      <td>27471.28</td>\n",
              "      <td>27900.27</td>\n",
              "      <td>120.48</td>\n",
              "      <td>3350771.68</td>\n",
              "      <td>27589.06</td>\n",
              "    </tr>\n",
              "    <tr>\n",
              "      <th>2022-11-03</th>\n",
              "      <td>27946.83</td>\n",
              "      <td>27564.24</td>\n",
              "      <td>27589.06</td>\n",
              "      <td>79.68</td>\n",
              "      <td>2214181.49</td>\n",
              "      <td>27756.61</td>\n",
              "    </tr>\n",
              "    <tr>\n",
              "      <th>2022-11-04</th>\n",
              "      <td>27857.46</td>\n",
              "      <td>27726.46</td>\n",
              "      <td>27756.61</td>\n",
              "      <td>11.35</td>\n",
              "      <td>315842.36</td>\n",
              "      <td>27813.37</td>\n",
              "    </tr>\n",
              "  </tbody>\n",
              "</table>\n",
              "</div>\n",
              "      <button class=\"colab-df-convert\" onclick=\"convertToInteractive('df-773ca0fb-ed01-4df1-9029-c903c47ef45f')\"\n",
              "              title=\"Convert this dataframe to an interactive table.\"\n",
              "              style=\"display:none;\">\n",
              "        \n",
              "  <svg xmlns=\"http://www.w3.org/2000/svg\" height=\"24px\"viewBox=\"0 0 24 24\"\n",
              "       width=\"24px\">\n",
              "    <path d=\"M0 0h24v24H0V0z\" fill=\"none\"/>\n",
              "    <path d=\"M18.56 5.44l.94 2.06.94-2.06 2.06-.94-2.06-.94-.94-2.06-.94 2.06-2.06.94zm-11 1L8.5 8.5l.94-2.06 2.06-.94-2.06-.94L8.5 2.5l-.94 2.06-2.06.94zm10 10l.94 2.06.94-2.06 2.06-.94-2.06-.94-.94-2.06-.94 2.06-2.06.94z\"/><path d=\"M17.41 7.96l-1.37-1.37c-.4-.4-.92-.59-1.43-.59-.52 0-1.04.2-1.43.59L10.3 9.45l-7.72 7.72c-.78.78-.78 2.05 0 2.83L4 21.41c.39.39.9.59 1.41.59.51 0 1.02-.2 1.41-.59l7.78-7.78 2.81-2.81c.8-.78.8-2.07 0-2.86zM5.41 20L4 18.59l7.72-7.72 1.47 1.35L5.41 20z\"/>\n",
              "  </svg>\n",
              "      </button>\n",
              "      \n",
              "  <style>\n",
              "    .colab-df-container {\n",
              "      display:flex;\n",
              "      flex-wrap:wrap;\n",
              "      gap: 12px;\n",
              "    }\n",
              "\n",
              "    .colab-df-convert {\n",
              "      background-color: #E8F0FE;\n",
              "      border: none;\n",
              "      border-radius: 50%;\n",
              "      cursor: pointer;\n",
              "      display: none;\n",
              "      fill: #1967D2;\n",
              "      height: 32px;\n",
              "      padding: 0 0 0 0;\n",
              "      width: 32px;\n",
              "    }\n",
              "\n",
              "    .colab-df-convert:hover {\n",
              "      background-color: #E2EBFA;\n",
              "      box-shadow: 0px 1px 2px rgba(60, 64, 67, 0.3), 0px 1px 3px 1px rgba(60, 64, 67, 0.15);\n",
              "      fill: #174EA6;\n",
              "    }\n",
              "\n",
              "    [theme=dark] .colab-df-convert {\n",
              "      background-color: #3B4455;\n",
              "      fill: #D2E3FC;\n",
              "    }\n",
              "\n",
              "    [theme=dark] .colab-df-convert:hover {\n",
              "      background-color: #434B5C;\n",
              "      box-shadow: 0px 1px 3px 1px rgba(0, 0, 0, 0.15);\n",
              "      filter: drop-shadow(0px 1px 2px rgba(0, 0, 0, 0.3));\n",
              "      fill: #FFFFFF;\n",
              "    }\n",
              "  </style>\n",
              "\n",
              "      <script>\n",
              "        const buttonEl =\n",
              "          document.querySelector('#df-773ca0fb-ed01-4df1-9029-c903c47ef45f button.colab-df-convert');\n",
              "        buttonEl.style.display =\n",
              "          google.colab.kernel.accessAllowed ? 'block' : 'none';\n",
              "\n",
              "        async function convertToInteractive(key) {\n",
              "          const element = document.querySelector('#df-773ca0fb-ed01-4df1-9029-c903c47ef45f');\n",
              "          const dataTable =\n",
              "            await google.colab.kernel.invokeFunction('convertToInteractive',\n",
              "                                                     [key], {});\n",
              "          if (!dataTable) return;\n",
              "\n",
              "          const docLinkHtml = 'Like what you see? Visit the ' +\n",
              "            '<a target=\"_blank\" href=https://colab.research.google.com/notebooks/data_table.ipynb>data table notebook</a>'\n",
              "            + ' to learn more about interactive tables.';\n",
              "          element.innerHTML = '';\n",
              "          dataTable['output_type'] = 'display_data';\n",
              "          await google.colab.output.renderOutput(dataTable, element);\n",
              "          const docLink = document.createElement('div');\n",
              "          docLink.innerHTML = docLinkHtml;\n",
              "          element.appendChild(docLink);\n",
              "        }\n",
              "      </script>\n",
              "    </div>\n",
              "  </div>\n",
              "  "
            ]
          },
          "metadata": {},
          "execution_count": 12
        }
      ]
    },
    {
      "cell_type": "code",
      "metadata": {
        "id": "w3Qe5CScxO8O"
      },
      "source": [
        "def train_test_split(df, test_size=0.2):\n",
        "    split_row = len(df) - int(test_size * len(df))\n",
        "    train_data = df.iloc[:split_row]\n",
        "    test_data = df.iloc[split_row:]\n",
        "    return train_data, test_data"
      ],
      "execution_count": 13,
      "outputs": []
    },
    {
      "cell_type": "code",
      "metadata": {
        "id": "JoRiQTaPxVhX"
      },
      "source": [
        "train, test = train_test_split(hist, test_size=0.2)"
      ],
      "execution_count": 14,
      "outputs": []
    },
    {
      "cell_type": "code",
      "metadata": {
        "id": "iK33HNm2sQyT",
        "outputId": "ba7baa79-aae4-4872-c350-ec1ddc54240a",
        "colab": {
          "base_uri": "https://localhost:8080/",
          "height": 455
        }
      },
      "source": [
        "test"
      ],
      "execution_count": 15,
      "outputs": [
        {
          "output_type": "execute_result",
          "data": {
            "text/plain": [
              "                high       low      open  volumefrom    volumeto     close\n",
              "time                                                                      \n",
              "2022-07-28  30972.97  29170.58  29461.68       94.66  2839251.17  30560.96\n",
              "2022-07-29  31143.54  30157.24  30560.96       86.41  2647395.67  30461.25\n",
              "2022-07-30  31490.78  30171.65  30461.25       72.19  2236589.25  30301.71\n",
              "2022-07-31  30868.90  29878.50  30301.71       53.63  1632164.27  30118.05\n",
              "2022-08-01  30215.06  29385.24  30118.05       45.44  1353898.21  29924.55\n",
              "...              ...       ...       ...         ...         ...       ...\n",
              "2022-10-31  28379.43  27665.00  28086.61       85.17  2382818.49  27905.41\n",
              "2022-11-01  28011.26  27636.31  27905.41       66.73  1858719.42  27900.27\n",
              "2022-11-02  28158.91  27471.28  27900.27      120.48  3350771.68  27589.06\n",
              "2022-11-03  27946.83  27564.24  27589.06       79.68  2214181.49  27756.61\n",
              "2022-11-04  27857.46  27726.46  27756.61       11.35   315842.36  27813.37\n",
              "\n",
              "[100 rows x 6 columns]"
            ],
            "text/html": [
              "\n",
              "  <div id=\"df-b58f34fb-f74e-4d9f-9f2c-d7723b64a896\">\n",
              "    <div class=\"colab-df-container\">\n",
              "      <div>\n",
              "<style scoped>\n",
              "    .dataframe tbody tr th:only-of-type {\n",
              "        vertical-align: middle;\n",
              "    }\n",
              "\n",
              "    .dataframe tbody tr th {\n",
              "        vertical-align: top;\n",
              "    }\n",
              "\n",
              "    .dataframe thead th {\n",
              "        text-align: right;\n",
              "    }\n",
              "</style>\n",
              "<table border=\"1\" class=\"dataframe\">\n",
              "  <thead>\n",
              "    <tr style=\"text-align: right;\">\n",
              "      <th></th>\n",
              "      <th>high</th>\n",
              "      <th>low</th>\n",
              "      <th>open</th>\n",
              "      <th>volumefrom</th>\n",
              "      <th>volumeto</th>\n",
              "      <th>close</th>\n",
              "    </tr>\n",
              "    <tr>\n",
              "      <th>time</th>\n",
              "      <th></th>\n",
              "      <th></th>\n",
              "      <th></th>\n",
              "      <th></th>\n",
              "      <th></th>\n",
              "      <th></th>\n",
              "    </tr>\n",
              "  </thead>\n",
              "  <tbody>\n",
              "    <tr>\n",
              "      <th>2022-07-28</th>\n",
              "      <td>30972.97</td>\n",
              "      <td>29170.58</td>\n",
              "      <td>29461.68</td>\n",
              "      <td>94.66</td>\n",
              "      <td>2839251.17</td>\n",
              "      <td>30560.96</td>\n",
              "    </tr>\n",
              "    <tr>\n",
              "      <th>2022-07-29</th>\n",
              "      <td>31143.54</td>\n",
              "      <td>30157.24</td>\n",
              "      <td>30560.96</td>\n",
              "      <td>86.41</td>\n",
              "      <td>2647395.67</td>\n",
              "      <td>30461.25</td>\n",
              "    </tr>\n",
              "    <tr>\n",
              "      <th>2022-07-30</th>\n",
              "      <td>31490.78</td>\n",
              "      <td>30171.65</td>\n",
              "      <td>30461.25</td>\n",
              "      <td>72.19</td>\n",
              "      <td>2236589.25</td>\n",
              "      <td>30301.71</td>\n",
              "    </tr>\n",
              "    <tr>\n",
              "      <th>2022-07-31</th>\n",
              "      <td>30868.90</td>\n",
              "      <td>29878.50</td>\n",
              "      <td>30301.71</td>\n",
              "      <td>53.63</td>\n",
              "      <td>1632164.27</td>\n",
              "      <td>30118.05</td>\n",
              "    </tr>\n",
              "    <tr>\n",
              "      <th>2022-08-01</th>\n",
              "      <td>30215.06</td>\n",
              "      <td>29385.24</td>\n",
              "      <td>30118.05</td>\n",
              "      <td>45.44</td>\n",
              "      <td>1353898.21</td>\n",
              "      <td>29924.55</td>\n",
              "    </tr>\n",
              "    <tr>\n",
              "      <th>...</th>\n",
              "      <td>...</td>\n",
              "      <td>...</td>\n",
              "      <td>...</td>\n",
              "      <td>...</td>\n",
              "      <td>...</td>\n",
              "      <td>...</td>\n",
              "    </tr>\n",
              "    <tr>\n",
              "      <th>2022-10-31</th>\n",
              "      <td>28379.43</td>\n",
              "      <td>27665.00</td>\n",
              "      <td>28086.61</td>\n",
              "      <td>85.17</td>\n",
              "      <td>2382818.49</td>\n",
              "      <td>27905.41</td>\n",
              "    </tr>\n",
              "    <tr>\n",
              "      <th>2022-11-01</th>\n",
              "      <td>28011.26</td>\n",
              "      <td>27636.31</td>\n",
              "      <td>27905.41</td>\n",
              "      <td>66.73</td>\n",
              "      <td>1858719.42</td>\n",
              "      <td>27900.27</td>\n",
              "    </tr>\n",
              "    <tr>\n",
              "      <th>2022-11-02</th>\n",
              "      <td>28158.91</td>\n",
              "      <td>27471.28</td>\n",
              "      <td>27900.27</td>\n",
              "      <td>120.48</td>\n",
              "      <td>3350771.68</td>\n",
              "      <td>27589.06</td>\n",
              "    </tr>\n",
              "    <tr>\n",
              "      <th>2022-11-03</th>\n",
              "      <td>27946.83</td>\n",
              "      <td>27564.24</td>\n",
              "      <td>27589.06</td>\n",
              "      <td>79.68</td>\n",
              "      <td>2214181.49</td>\n",
              "      <td>27756.61</td>\n",
              "    </tr>\n",
              "    <tr>\n",
              "      <th>2022-11-04</th>\n",
              "      <td>27857.46</td>\n",
              "      <td>27726.46</td>\n",
              "      <td>27756.61</td>\n",
              "      <td>11.35</td>\n",
              "      <td>315842.36</td>\n",
              "      <td>27813.37</td>\n",
              "    </tr>\n",
              "  </tbody>\n",
              "</table>\n",
              "<p>100 rows × 6 columns</p>\n",
              "</div>\n",
              "      <button class=\"colab-df-convert\" onclick=\"convertToInteractive('df-b58f34fb-f74e-4d9f-9f2c-d7723b64a896')\"\n",
              "              title=\"Convert this dataframe to an interactive table.\"\n",
              "              style=\"display:none;\">\n",
              "        \n",
              "  <svg xmlns=\"http://www.w3.org/2000/svg\" height=\"24px\"viewBox=\"0 0 24 24\"\n",
              "       width=\"24px\">\n",
              "    <path d=\"M0 0h24v24H0V0z\" fill=\"none\"/>\n",
              "    <path d=\"M18.56 5.44l.94 2.06.94-2.06 2.06-.94-2.06-.94-.94-2.06-.94 2.06-2.06.94zm-11 1L8.5 8.5l.94-2.06 2.06-.94-2.06-.94L8.5 2.5l-.94 2.06-2.06.94zm10 10l.94 2.06.94-2.06 2.06-.94-2.06-.94-.94-2.06-.94 2.06-2.06.94z\"/><path d=\"M17.41 7.96l-1.37-1.37c-.4-.4-.92-.59-1.43-.59-.52 0-1.04.2-1.43.59L10.3 9.45l-7.72 7.72c-.78.78-.78 2.05 0 2.83L4 21.41c.39.39.9.59 1.41.59.51 0 1.02-.2 1.41-.59l7.78-7.78 2.81-2.81c.8-.78.8-2.07 0-2.86zM5.41 20L4 18.59l7.72-7.72 1.47 1.35L5.41 20z\"/>\n",
              "  </svg>\n",
              "      </button>\n",
              "      \n",
              "  <style>\n",
              "    .colab-df-container {\n",
              "      display:flex;\n",
              "      flex-wrap:wrap;\n",
              "      gap: 12px;\n",
              "    }\n",
              "\n",
              "    .colab-df-convert {\n",
              "      background-color: #E8F0FE;\n",
              "      border: none;\n",
              "      border-radius: 50%;\n",
              "      cursor: pointer;\n",
              "      display: none;\n",
              "      fill: #1967D2;\n",
              "      height: 32px;\n",
              "      padding: 0 0 0 0;\n",
              "      width: 32px;\n",
              "    }\n",
              "\n",
              "    .colab-df-convert:hover {\n",
              "      background-color: #E2EBFA;\n",
              "      box-shadow: 0px 1px 2px rgba(60, 64, 67, 0.3), 0px 1px 3px 1px rgba(60, 64, 67, 0.15);\n",
              "      fill: #174EA6;\n",
              "    }\n",
              "\n",
              "    [theme=dark] .colab-df-convert {\n",
              "      background-color: #3B4455;\n",
              "      fill: #D2E3FC;\n",
              "    }\n",
              "\n",
              "    [theme=dark] .colab-df-convert:hover {\n",
              "      background-color: #434B5C;\n",
              "      box-shadow: 0px 1px 3px 1px rgba(0, 0, 0, 0.15);\n",
              "      filter: drop-shadow(0px 1px 2px rgba(0, 0, 0, 0.3));\n",
              "      fill: #FFFFFF;\n",
              "    }\n",
              "  </style>\n",
              "\n",
              "      <script>\n",
              "        const buttonEl =\n",
              "          document.querySelector('#df-b58f34fb-f74e-4d9f-9f2c-d7723b64a896 button.colab-df-convert');\n",
              "        buttonEl.style.display =\n",
              "          google.colab.kernel.accessAllowed ? 'block' : 'none';\n",
              "\n",
              "        async function convertToInteractive(key) {\n",
              "          const element = document.querySelector('#df-b58f34fb-f74e-4d9f-9f2c-d7723b64a896');\n",
              "          const dataTable =\n",
              "            await google.colab.kernel.invokeFunction('convertToInteractive',\n",
              "                                                     [key], {});\n",
              "          if (!dataTable) return;\n",
              "\n",
              "          const docLinkHtml = 'Like what you see? Visit the ' +\n",
              "            '<a target=\"_blank\" href=https://colab.research.google.com/notebooks/data_table.ipynb>data table notebook</a>'\n",
              "            + ' to learn more about interactive tables.';\n",
              "          element.innerHTML = '';\n",
              "          dataTable['output_type'] = 'display_data';\n",
              "          await google.colab.output.renderOutput(dataTable, element);\n",
              "          const docLink = document.createElement('div');\n",
              "          docLink.innerHTML = docLinkHtml;\n",
              "          element.appendChild(docLink);\n",
              "        }\n",
              "      </script>\n",
              "    </div>\n",
              "  </div>\n",
              "  "
            ]
          },
          "metadata": {},
          "execution_count": 15
        }
      ]
    },
    {
      "cell_type": "code",
      "metadata": {
        "id": "cgl5pgvJxXnr"
      },
      "source": [
        "def line_plot(line1, line2, label1=None, label2=None, title='', lw=2):\n",
        "    fig, ax = plt.subplots(1, figsize=(13, 7))\n",
        "    ax.plot(line1, label=label1, linewidth=lw)\n",
        "    ax.plot(line2, label=label2, linewidth=lw)\n",
        "    ax.set_ylabel('price', fontsize=14)\n",
        "    ax.set_title(title, fontsize=16)\n",
        "    ax.legend(loc='best', fontsize=16);"
      ],
      "execution_count": 16,
      "outputs": []
    },
    {
      "cell_type": "code",
      "metadata": {
        "colab": {
          "base_uri": "https://localhost:8080/",
          "height": 428
        },
        "id": "lEpcSs3Dxaar",
        "outputId": "70fbe5a0-853d-4bee-a48e-6be8b499d6f6"
      },
      "source": [
        "line_plot(train[target_col], test[target_col], 'training', 'test', title='')"
      ],
      "execution_count": 17,
      "outputs": [
        {
          "output_type": "display_data",
          "data": {
            "text/plain": [
              "<Figure size 936x504 with 1 Axes>"
            ],
            "image/png": "[encoded data removed]"
          },
          "metadata": {
            "needs_background": "light"
          }
        }
      ]
    },
    {
      "cell_type": "code",
      "metadata": {
        "id": "3nM4txSCxdOF"
      },
      "source": [
        "def normalise_zero_base(df):\n",
        "    return df / df.iloc[0] - 1\n",
        "\n",
        "def normalise_min_max(df):\n",
        "    return (df - df.min()) / (data.max() - df.min())"
      ],
      "execution_count": 18,
      "outputs": []
    },
    {
      "cell_type": "code",
      "metadata": {
        "id": "F0coZgpyxjtB"
      },
      "source": [
        "def extract_window_data(df, window_len=5, zero_base=True):\n",
        "    window_data = []\n",
        "    for idx in range(len(df) - window_len):\n",
        "        tmp = df[idx: (idx + window_len)].copy()\n",
        "        if zero_base:\n",
        "            tmp = normalise_zero_base(tmp)\n",
        "        window_data.append(tmp.values)\n",
        "    return np.array(window_data)"
      ],
      "execution_count": 19,
      "outputs": []
    },
    {
      "cell_type": "code",
      "metadata": {
        "id": "Oe99NM0exlyJ"
      },
      "source": [
        "def prepare_data(df, target_col, window_len=10, zero_base=True, test_size=0.2):\n",
        "    train_data, test_data = train_test_split(df, test_size=test_size)\n",
        "    X_train = extract_window_data(train_data, window_len, zero_base)\n",
        "    X_test = extract_window_data(test_data, window_len, zero_base)\n",
        "    y_train = train_data[target_col][window_len:].values\n",
        "    y_test = test_data[target_col][window_len:].values\n",
        "    if zero_base:\n",
        "        y_train = y_train / train_data[target_col][:-window_len].values - 1\n",
        "        y_test = y_test / test_data[target_col][:-window_len].values - 1\n",
        "\n",
        "    return train_data, test_data, X_train, X_test, y_train, y_test"
      ],
      "execution_count": 20,
      "outputs": []
    },
    {
      "cell_type": "code",
      "metadata": {
        "id": "CYx-z0Wmxn9i"
      },
      "source": [
        "def build_lstm_model(input_data, output_size, neurons=100, activ_func='linear',\n",
        "                     dropout=0.2, loss='mse', optimizer='adam'):\n",
        "    model = Sequential()\n",
        "    model.add(LSTM(neurons, input_shape=(input_data.shape[1], input_data.shape[2])))\n",
        "    model.add(Dropout(dropout))\n",
        "    model.add(Dense(units=output_size))\n",
        "    model.add(Activation(activ_func))\n",
        "\n",
        "    model.compile(loss=loss, optimizer=optimizer)\n",
        "    return model"
      ],
      "execution_count": 21,
      "outputs": []
    },
    {
      "cell_type": "code",
      "metadata": {
        "id": "fuKlF64rxq35"
      },
      "source": [
        "np.random.seed(42)\n",
        "window_len = 5\n",
        "test_size = 0.2\n",
        "zero_base = True\n",
        "lstm_neurons = 100\n",
        "epochs = 50\n",
        "batch_size = 32\n",
        "loss = 'mse'\n",
        "dropout = 0.2\n",
        "optimizer = 'adam'"
      ],
      "execution_count": 22,
      "outputs": []
    },
    {
      "cell_type": "code",
      "metadata": {
        "id": "dxF4jdJGxtXe"
      },
      "source": [
        "train, test, X_train, X_test, y_train, y_test = prepare_data(\n",
        "    hist, target_col, window_len=window_len, zero_base=zero_base, test_size=test_size)"
      ],
      "execution_count": 23,
      "outputs": []
    },
    {
      "cell_type": "code",
      "metadata": {
        "id": "lw8L-j3ksWGP",
        "outputId": "70941cbb-33e1-4352-e413-0146f2573692",
        "colab": {
          "base_uri": "https://localhost:8080/"
        }
      },
      "source": [
        "X_test"
      ],
      "execution_count": 24,
      "outputs": [
        {
          "output_type": "execute_result",
          "data": {
            "text/plain": [
              "array([[[ 0.00000000e+00,  0.00000000e+00,  0.00000000e+00,\n",
              "          0.00000000e+00,  0.00000000e+00,  0.00000000e+00],\n",
              "        [ 5.50705987e-03,  3.38238047e-02,  3.73121967e-02,\n",
              "         -8.71540249e-02, -6.75725706e-02, -3.26265929e-03],\n",
              "        [ 1.67181255e-02,  3.43177955e-02,  3.39278005e-02,\n",
              "         -2.37375872e-01, -2.12260869e-01, -8.48304504e-03],\n",
              "        [-3.36002650e-03,  2.42682867e-02,  2.85126306e-02,\n",
              "         -4.33446017e-01, -4.25142697e-01, -1.44926730e-02],\n",
              "        [-2.44700460e-02,  7.35878409e-03,  2.22787703e-02,\n",
              "         -5.19966195e-01, -5.23149546e-01, -2.08242804e-02]],\n",
              "\n",
              "       [[ 0.00000000e+00,  0.00000000e+00,  0.00000000e+00,\n",
              "          0.00000000e+00,  0.00000000e+00,  0.00000000e+00],\n",
              "        [ 1.11496638e-02,  4.77828873e-04, -3.26265929e-03,\n",
              "         -1.64564287e-01, -1.55173790e-01, -5.23747384e-03],\n",
              "        [-8.81852224e-03, -9.24288827e-03, -8.48304504e-03,\n",
              "         -3.79354241e-01, -3.83483063e-01, -1.12667734e-02],\n",
              "        [-2.98129243e-02, -2.55991596e-02, -1.44926730e-02,\n",
              "         -4.74134938e-01, -4.88592421e-01, -1.76191062e-02],\n",
              "        [-3.21183783e-02, -3.25096063e-02, -2.08242804e-02,\n",
              "          5.04686958e-01,  4.57792356e-01, -2.66036358e-02]],\n",
              "\n",
              "       [[ 0.00000000e+00,  0.00000000e+00,  0.00000000e+00,\n",
              "          0.00000000e+00,  0.00000000e+00,  0.00000000e+00],\n",
              "        [-1.97480024e-02, -9.71607453e-03, -5.23747384e-03,\n",
              "         -2.57099321e-01, -2.70244069e-01, -6.06104408e-03],\n",
              "        [-4.05109051e-02, -2.60645341e-02, -1.12667734e-02,\n",
              "         -3.70549938e-01, -3.94659431e-01, -1.24468223e-02],\n",
              "        [-4.27909375e-02, -3.29716804e-02, -1.76191062e-02,\n",
              "          8.01080482e-01,  7.25552946e-01, -2.14786558e-02],\n",
              "        [-3.76770598e-02, -3.10046020e-02, -2.66036358e-02,\n",
              "         -1.87006511e-02, -5.39975098e-02, -3.12863531e-02]],\n",
              "\n",
              "       ...,\n",
              "\n",
              "       [[ 0.00000000e+00,  0.00000000e+00,  0.00000000e+00,\n",
              "          0.00000000e+00,  0.00000000e+00,  0.00000000e+00],\n",
              "        [ 1.39481917e-02,  2.78094489e-02,  2.03947603e-02,\n",
              "          3.70098039e-01,  3.99951173e-01,  8.40373528e-03],\n",
              "        [ 8.36792387e-03,  2.53563967e-02,  2.89698877e-02,\n",
              "         -4.95098039e-02, -3.26630747e-02, -1.59125245e-04],\n",
              "        [ 4.59795098e-03,  1.45565858e-02,  2.02323897e-02,\n",
              "          4.37500000e-02,  5.26987704e-02, -6.60957144e-03],\n",
              "        [-8.43482761e-03,  1.35044394e-02,  1.36503882e-02,\n",
              "         -1.82230392e-01, -1.78841504e-01, -6.79254767e-03]],\n",
              "\n",
              "       [[ 0.00000000e+00,  0.00000000e+00,  0.00000000e+00,\n",
              "          0.00000000e+00,  0.00000000e+00,  0.00000000e+00],\n",
              "        [-5.50350393e-03, -2.38667998e-03,  8.40373528e-03,\n",
              "         -3.06261181e-01, -3.09020954e-01, -8.49150020e-03],\n",
              "        [-9.22161588e-03, -1.28942803e-02, -1.59125245e-04,\n",
              "         -2.38193202e-01, -2.48046081e-01, -1.48881903e-02],\n",
              "        [-2.20751114e-02, -1.39179587e-02, -6.60957144e-03,\n",
              "         -4.03130590e-01, -4.13437760e-01, -1.50696417e-02],\n",
              "        [-1.69203769e-02, -1.98063396e-02, -6.79254767e-03,\n",
              "          7.76386404e-02,  5.74141111e-02, -2.60559216e-02]],\n",
              "\n",
              "       [[ 0.00000000e+00,  0.00000000e+00,  0.00000000e+00,\n",
              "          0.00000000e+00,  0.00000000e+00,  0.00000000e+00],\n",
              "        [-3.73868784e-03, -1.05327386e-02, -8.49150020e-03,\n",
              "          9.81175864e-02,  8.82441710e-02, -6.45147278e-03],\n",
              "        [-1.66633141e-02, -1.15588661e-02, -1.48881903e-02,\n",
              "         -1.39633832e-01, -1.51114286e-01, -6.63447814e-03],\n",
              "        [-1.14800535e-02, -1.74613342e-02, -1.50696417e-02,\n",
              "          5.53378030e-01,  5.30312848e-01, -1.77148470e-02],\n",
              "        [-1.89251325e-02, -1.41365239e-02, -2.60559216e-02,\n",
              "          2.73336772e-02,  1.12268769e-02, -1.17493710e-02]]])"
            ]
          },
          "metadata": {},
          "execution_count": 24
        }
      ]
    },
    {
      "cell_type": "code",
      "metadata": {
        "colab": {
          "base_uri": "https://localhost:8080/"
        },
        "id": "w7iqiGoDxvC9",
        "outputId": "25d8df48-5769-4df7-8838-4b058d95dff1"
      },
      "source": [
        "model = build_lstm_model(X_train, output_size=1, neurons=lstm_neurons, dropout=dropout, loss=loss, optimizer=optimizer)\n",
        "history = model.fit(\n",
        "    X_train, y_train, validation_data=(X_test, y_test), epochs=epochs, batch_size=batch_size, verbose=1, shuffle=True)"
      ],
      "execution_count": 25,
      "outputs": [
        {
          "output_type": "stream",
          "name": "stdout",
          "text": [
            "Epoch 1/50\n",
            "13/13 [==============================] - 2s 33ms/step - loss: 0.0064 - val_loss: 0.0018\n",
            "Epoch 2/50\n",
            "13/13 [==============================] - 0s 5ms/step - loss: 0.0052 - val_loss: 0.0019\n",
            "Epoch 3/50\n",
            "13/13 [==============================] - 0s 4ms/step - loss: 0.0063 - val_loss: 0.0016\n",
            "Epoch 4/50\n",
            "13/13 [==============================] - 0s 4ms/step - loss: 0.0041 - val_loss: 0.0015\n",
            "Epoch 5/50\n",
            "13/13 [==============================] - 0s 4ms/step - loss: 0.0040 - val_loss: 0.0014\n",
            "Epoch 6/50\n",
            "13/13 [==============================] - 0s 4ms/step - loss: 0.0034 - val_loss: 0.0013\n",
            "Epoch 7/50\n",
            "13/13 [==============================] - 0s 4ms/step - loss: 0.0034 - val_loss: 0.0014\n",
            "Epoch 8/50\n",
            "13/13 [==============================] - 0s 4ms/step - loss: 0.0028 - val_loss: 0.0011\n",
            "Epoch 9/50\n",
            "13/13 [==============================] - 0s 4ms/step - loss: 0.0030 - val_loss: 0.0011\n",
            "Epoch 10/50\n",
            "13/13 [==============================] - 0s 4ms/step - loss: 0.0038 - val_loss: 0.0011\n",
            "Epoch 11/50\n",
            "13/13 [==============================] - 0s 6ms/step - loss: 0.0028 - val_loss: 0.0012\n",
            "Epoch 12/50\n",
            "13/13 [==============================] - 0s 5ms/step - loss: 0.0028 - val_loss: 9.3865e-04\n",
            "Epoch 13/50\n",
            "13/13 [==============================] - 0s 5ms/step - loss: 0.0028 - val_loss: 9.4515e-04\n",
            "Epoch 14/50\n",
            "13/13 [==============================] - 0s 4ms/step - loss: 0.0023 - val_loss: 0.0010\n",
            "Epoch 15/50\n",
            "13/13 [==============================] - 0s 4ms/step - loss: 0.0032 - val_loss: 8.7784e-04\n",
            "Epoch 16/50\n",
            "13/13 [==============================] - 0s 5ms/step - loss: 0.0025 - val_loss: 8.6128e-04\n",
            "Epoch 17/50\n",
            "13/13 [==============================] - 0s 5ms/step - loss: 0.0035 - val_loss: 8.0822e-04\n",
            "Epoch 18/50\n",
            "13/13 [==============================] - 0s 4ms/step - loss: 0.0029 - val_loss: 7.6591e-04\n",
            "Epoch 19/50\n",
            "13/13 [==============================] - 0s 4ms/step - loss: 0.0026 - val_loss: 7.4543e-04\n",
            "Epoch 20/50\n",
            "13/13 [==============================] - 0s 5ms/step - loss: 0.0023 - val_loss: 7.6359e-04\n",
            "Epoch 21/50\n",
            "13/13 [==============================] - 0s 4ms/step - loss: 0.0032 - val_loss: 7.4667e-04\n",
            "Epoch 22/50\n",
            "13/13 [==============================] - 0s 6ms/step - loss: 0.0024 - val_loss: 8.6975e-04\n",
            "Epoch 23/50\n",
            "13/13 [==============================] - 0s 5ms/step - loss: 0.0021 - val_loss: 6.8912e-04\n",
            "Epoch 24/50\n",
            "13/13 [==============================] - 0s 5ms/step - loss: 0.0020 - val_loss: 7.3930e-04\n",
            "Epoch 25/50\n",
            "13/13 [==============================] - 0s 5ms/step - loss: 0.0027 - val_loss: 7.4889e-04\n",
            "Epoch 26/50\n",
            "13/13 [==============================] - 0s 5ms/step - loss: 0.0027 - val_loss: 7.9440e-04\n",
            "Epoch 27/50\n",
            "13/13 [==============================] - 0s 5ms/step - loss: 0.0020 - val_loss: 7.6113e-04\n",
            "Epoch 28/50\n",
            "13/13 [==============================] - 0s 5ms/step - loss: 0.0026 - val_loss: 7.0308e-04\n",
            "Epoch 29/50\n",
            "13/13 [==============================] - 0s 5ms/step - loss: 0.0023 - val_loss: 6.8110e-04\n",
            "Epoch 30/50\n",
            "13/13 [==============================] - 0s 4ms/step - loss: 0.0041 - val_loss: 6.9376e-04\n",
            "Epoch 31/50\n",
            "13/13 [==============================] - 0s 4ms/step - loss: 0.0026 - val_loss: 8.1604e-04\n",
            "Epoch 32/50\n",
            "13/13 [==============================] - 0s 6ms/step - loss: 0.0019 - val_loss: 7.2383e-04\n",
            "Epoch 33/50\n",
            "13/13 [==============================] - 0s 5ms/step - loss: 0.0026 - val_loss: 7.7170e-04\n",
            "Epoch 34/50\n",
            "13/13 [==============================] - 0s 5ms/step - loss: 0.0019 - val_loss: 7.2684e-04\n",
            "Epoch 35/50\n",
            "13/13 [==============================] - 0s 4ms/step - loss: 0.0022 - val_loss: 6.5755e-04\n",
            "Epoch 36/50\n",
            "13/13 [==============================] - 0s 4ms/step - loss: 0.0016 - val_loss: 6.9107e-04\n",
            "Epoch 37/50\n",
            "13/13 [==============================] - 0s 4ms/step - loss: 0.0017 - val_loss: 6.6754e-04\n",
            "Epoch 38/50\n",
            "13/13 [==============================] - 0s 5ms/step - loss: 0.0023 - val_loss: 6.8339e-04\n",
            "Epoch 39/50\n",
            "13/13 [==============================] - 0s 4ms/step - loss: 0.0021 - val_loss: 7.4851e-04\n",
            "Epoch 40/50\n",
            "13/13 [==============================] - 0s 4ms/step - loss: 0.0020 - val_loss: 6.5059e-04\n",
            "Epoch 41/50\n",
            "13/13 [==============================] - 0s 5ms/step - loss: 0.0025 - val_loss: 7.1079e-04\n",
            "Epoch 42/50\n",
            "13/13 [==============================] - 0s 5ms/step - loss: 0.0029 - val_loss: 6.9739e-04\n",
            "Epoch 43/50\n",
            "13/13 [==============================] - 0s 5ms/step - loss: 0.0030 - val_loss: 6.4817e-04\n",
            "Epoch 44/50\n",
            "13/13 [==============================] - 0s 4ms/step - loss: 0.0016 - val_loss: 6.5168e-04\n",
            "Epoch 45/50\n",
            "13/13 [==============================] - 0s 4ms/step - loss: 0.0031 - val_loss: 6.7710e-04\n",
            "Epoch 46/50\n",
            "13/13 [==============================] - 0s 4ms/step - loss: 0.0023 - val_loss: 6.4629e-04\n",
            "Epoch 47/50\n",
            "13/13 [==============================] - 0s 4ms/step - loss: 0.0017 - val_loss: 7.1662e-04\n",
            "Epoch 48/50\n",
            "13/13 [==============================] - 0s 5ms/step - loss: 0.0016 - val_loss: 6.5741e-04\n",
            "Epoch 49/50\n",
            "13/13 [==============================] - 0s 5ms/step - loss: 0.0018 - val_loss: 7.6503e-04\n",
            "Epoch 50/50\n",
            "13/13 [==============================] - 0s 5ms/step - loss: 0.0025 - val_loss: 6.1019e-04\n"
          ]
        }
      ]
    },
    {
      "cell_type": "code",
      "metadata": {
        "id": "JoTxXL7mzPaD"
      },
      "source": [
        "model.save('mymodel.h5',history)"
      ],
      "execution_count": 26,
      "outputs": []
    },
    {
      "cell_type": "code",
      "metadata": {
        "colab": {
          "base_uri": "https://localhost:8080/",
          "height": 295
        },
        "id": "4LV5fzu_xz8d",
        "outputId": "a10263f7-cb4c-46fc-a05c-596eaa379853"
      },
      "source": [
        "import matplotlib.pyplot as plt\n",
        "plt.plot(history.history['loss'],'r',linewidth=2, label='Train loss')\n",
        "plt.plot(history.history['val_loss'], 'g',linewidth=2, label='Validation loss')\n",
        "plt.title('LSTM')\n",
        "plt.xlabel('Epochs')\n",
        "plt.ylabel('MSE')\n",
        "plt.show()"
      ],
      "execution_count": 27,
      "outputs": [
        {
          "output_type": "display_data",
          "data": {
            "text/plain": [
              "<Figure size 432x288 with 1 Axes>"
            ],
            "image/png": "[encoded data removed]"
          },
          "metadata": {
            "needs_background": "light"
          }
        }
      ]
    },
    {
      "cell_type": "code",
      "metadata": {
        "colab": {
          "base_uri": "https://localhost:8080/"
        },
        "id": "SJRPIy9px7Ep",
        "outputId": "10e198af-d3e1-4188-94b9-95388467f2dc"
      },
      "source": [
        "targets = test[target_col][window_len:]\n",
        "preds = model.predict(X_test).squeeze()\n",
        "mean_absolute_error(preds, y_test)"
      ],
      "execution_count": 28,
      "outputs": [
        {
          "output_type": "stream",
          "name": "stdout",
          "text": [
            "3/3 [==============================] - 0s 3ms/step\n"
          ]
        },
        {
          "output_type": "execute_result",
          "data": {
            "text/plain": [
              "0.01695492626590826"
            ]
          },
          "metadata": {},
          "execution_count": 28
        }
      ]
    },
    {
      "cell_type": "code",
      "metadata": {
        "colab": {
          "base_uri": "https://localhost:8080/"
        },
        "id": "_b3uel3Tq71K",
        "outputId": "738a60fa-551c-4a34-a580-ad3061f25c0f"
      },
      "source": [
        "X_test.shape"
      ],
      "execution_count": 29,
      "outputs": [
        {
          "output_type": "execute_result",
          "data": {
            "text/plain": [
              "(95, 5, 6)"
            ]
          },
          "metadata": {},
          "execution_count": 29
        }
      ]
    },
    {
      "cell_type": "code",
      "metadata": {
        "colab": {
          "base_uri": "https://localhost:8080/"
        },
        "id": "xplwbHI_yB5n",
        "outputId": "4e0d717c-b570-408a-f403-eb3442237874"
      },
      "source": [
        "from sklearn.metrics import mean_squared_error\n",
        "MAE=mean_squared_error(preds, y_test)\n",
        "MAE"
      ],
      "execution_count": 30,
      "outputs": [
        {
          "output_type": "execute_result",
          "data": {
            "text/plain": [
              "0.0006101898787612001"
            ]
          },
          "metadata": {},
          "execution_count": 30
        }
      ]
    },
    {
      "cell_type": "code",
      "metadata": {
        "colab": {
          "base_uri": "https://localhost:8080/"
        },
        "id": "4FhKlwB0yFL_",
        "outputId": "12861a5b-35da-4780-d406-023d58669c48"
      },
      "source": [
        "from sklearn.metrics import r2_score\n",
        "R2=r2_score(y_test, preds)\n",
        "R2"
      ],
      "execution_count": 31,
      "outputs": [
        {
          "output_type": "execute_result",
          "data": {
            "text/plain": [
              "0.7278959485275956"
            ]
          },
          "metadata": {},
          "execution_count": 31
        }
      ]
    },
    {
      "cell_type": "code",
      "metadata": {
        "colab": {
          "base_uri": "https://localhost:8080/",
          "height": 428
        },
        "id": "7-coqiGUyIXF",
        "outputId": "5d7e1c71-6951-4248-f35d-76529ad046a8"
      },
      "source": [
        "preds = test[target_col].values[:-window_len] * (preds + 1)\n",
        "preds = pd.Series(index=targets.index, data=preds)\n",
        "line_plot(targets, preds, 'actual', 'prediction', lw=3)"
      ],
      "execution_count": 32,
      "outputs": [
        {
          "output_type": "display_data",
          "data": {
            "text/plain": [
              "<Figure size 936x504 with 1 Axes>"
            ],
            "image/png": "[encoded data removed]"
          },
          "metadata": {
            "needs_background": "light"
          }
        }
      ]
    },
    {
      "cell_type": "code",
      "metadata": {
        "id": "0_zKr9acyKDr"
      },
      "source": [],
      "execution_count": null,
      "outputs": []
    },
    {
      "cell_type": "code",
      "metadata": {
        "id": "g_RerelJlurP"
      },
      "source": [],
      "execution_count": null,
      "outputs": []
    }
  ]
}